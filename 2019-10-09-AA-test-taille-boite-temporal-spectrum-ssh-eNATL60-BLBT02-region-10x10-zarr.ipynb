{
 "cells": [
  {
   "cell_type": "markdown",
   "metadata": {},
   "source": [
    "## Computational ressources"
   ]
  },
  {
   "cell_type": "code",
   "execution_count": 32,
   "metadata": {},
   "outputs": [
    {
     "name": "stderr",
     "output_type": "stream",
     "text": [
      "/scratch/cnt0024/hmg2840/albert7a/anaconda3/lib/python3.7/site-packages/distributed/bokeh/core.py:74: UserWarning: \n",
      "Failed to start diagnostics server on port 8787. [Errno 13] Permission denied\n",
      "  warnings.warn(\"\\n\" + msg)\n"
     ]
    },
    {
     "data": {
      "text/html": [
       "<table style=\"border: 2px solid white;\">\n",
       "<tr>\n",
       "<td style=\"vertical-align: top; border: 0px solid white\">\n",
       "<h3>Client</h3>\n",
       "<ul>\n",
       "  <li><b>Scheduler: </b>tcp://172.30.100.4:36587\n",
       "  <li><b>Dashboard: </b><a href='http://172.30.100.4:36621/status' target='_blank'>http://172.30.100.4:36621/status</a>\n",
       "</ul>\n",
       "</td>\n",
       "<td style=\"vertical-align: top; border: 0px solid white\">\n",
       "<h3>Cluster</h3>\n",
       "<ul>\n",
       "  <li><b>Workers: </b>0</li>\n",
       "  <li><b>Cores: </b>0</li>\n",
       "  <li><b>Memory: </b>0 B</li>\n",
       "</ul>\n",
       "</td>\n",
       "</tr>\n",
       "</table>"
      ],
      "text/plain": [
       "<Client: scheduler='tcp://172.30.100.4:36587' processes=0 cores=0>"
      ]
     },
     "execution_count": 32,
     "metadata": {},
     "output_type": "execute_result"
    }
   ],
   "source": [
    "from dask_jobqueue import SLURMCluster \n",
    "from dask.distributed import Client \n",
    "  \n",
    "cluster = SLURMCluster(cores=28,name='make_profiles',walltime='00:30:00',job_extra=['--constraint=HSW24','--exclusive','--nodes=1'],memory='120GB',interface='ib0') \n",
    "\n",
    "cluster.scale(204) \n",
    "\n",
    "from dask.distributed import Client\n",
    "client = Client(cluster)\n",
    "\n",
    "client"
   ]
  },
  {
   "cell_type": "code",
   "execution_count": 33,
   "metadata": {},
   "outputs": [
    {
     "name": "stdout",
     "output_type": "stream",
     "text": [
      "             JOBID PARTITION     NAME     USER ST       TIME  NODES NODELIST(REASON)\r\n",
      "           7488612      allc make_pro albert7a PD       0:00      1 (Priority)\r\n",
      "           7488613      allc make_pro albert7a PD       0:00      1 (Priority)\r\n",
      "           7488614      allc make_pro albert7a PD       0:00      1 (Priority)\r\n",
      "           7488615      allc make_pro albert7a PD       0:00      1 (Priority)\r\n",
      "           7488616      allc make_pro albert7a PD       0:00      1 (Priority)\r\n",
      "           7488617      allc make_pro albert7a PD       0:00      1 (Priority)\r\n",
      "           7488618      allc make_pro albert7a PD       0:00      1 (Priority)\r\n",
      "           7488619      allc make_pro albert7a PD       0:00      1 (Priority)\r\n",
      "           7487968       all nemo_occ albert7a PD       0:00     49 (Resources)\r\n"
     ]
    }
   ],
   "source": [
    "!squeue -u albert7a"
   ]
  },
  {
   "cell_type": "code",
   "execution_count": 34,
   "metadata": {},
   "outputs": [
    {
     "name": "stdout",
     "output_type": "stream",
     "text": [
      "77 are ready !\n"
     ]
    }
   ],
   "source": [
    "import time\n",
    "nb_workers = 0\n",
    "while True:\n",
    "    nb_workers = len(client.scheduler_info()[\"workers\"])\n",
    "    if nb_workers >= 2:\n",
    "        break\n",
    "    time.sleep(1)\n",
    "print(str(nb_workers)+' are ready !')"
   ]
  },
  {
   "cell_type": "code",
   "execution_count": 36,
   "metadata": {},
   "outputs": [
    {
     "name": "stdout",
     "output_type": "stream",
     "text": [
      "             JOBID PARTITION     NAME     USER ST       TIME  NODES NODELIST(REASON)\r\n",
      "           7487968       all nemo_occ albert7a PD       0:00     49 (Resources)\r\n",
      "           7488612      allc make_pro albert7a  R       0:48      1 n2529\r\n",
      "           7488613      allc make_pro albert7a  R       0:48      1 n2563\r\n",
      "           7488614      allc make_pro albert7a  R       0:48      1 n3087\r\n",
      "           7488615      allc make_pro albert7a  R       0:48      1 n2800\r\n",
      "           7488616      allc make_pro albert7a  R       0:48      1 n2801\r\n",
      "           7488617      allc make_pro albert7a  R       0:48      1 n2803\r\n",
      "           7488618      allc make_pro albert7a  R       0:48      1 n2810\r\n",
      "           7488619      allc make_pro albert7a  R       0:48      1 n2811\r\n"
     ]
    }
   ],
   "source": [
    "!squeue -u albert7a"
   ]
  },
  {
   "cell_type": "markdown",
   "metadata": {},
   "source": [
    "## Librairies and customization"
   ]
  },
  {
   "cell_type": "code",
   "execution_count": 37,
   "metadata": {},
   "outputs": [],
   "source": [
    "import xarray as xr \n",
    "import dask \n",
    "import numpy as np \n",
    "import os \n",
    "import time \n",
    "import glob\n",
    "from datetime import date\n",
    "today=date.today()\n",
    "\n",
    "import sys\n",
    "sys.path.insert(0,'/home/albert7a/git/xscale')\n",
    "import xscale\n",
    "\n",
    "import xscale.spectral.fft as xfft\n",
    "from xscale.spectral.tools import plot_spectrum\n",
    "import xscale.signal.generator as xgen\n",
    "\n",
    "import matplotlib.pyplot as plt\n",
    "params = {'figure.figsize' : (15, 8),'legend.fontsize': 16,'xtick.labelsize':16,'ytick.labelsize':16,'axes.labelsize':16,'font.size':16}\n",
    "plt.rcParams.update(params)\n"
   ]
  },
  {
   "cell_type": "code",
   "execution_count": 38,
   "metadata": {},
   "outputs": [
    {
     "name": "stdout",
     "output_type": "stream",
     "text": [
      "CPU times: user 142 ms, sys: 39.7 ms, total: 182 ms\n",
      "Wall time: 771 ms\n"
     ]
    },
    {
     "data": {
      "text/plain": [
       "<xarray.Dataset>\n",
       "Dimensions:               (axis_nbounds: 2, time_counter: 11688, x: 8354, y: 4729)\n",
       "Coordinates:\n",
       "    time_centered         (time_counter) datetime64[ns] dask.array<shape=(11688,), chunksize=(240,)>\n",
       "  * time_counter          (time_counter) datetime64[ns] 2010-01-19T00:30:00 ... 2009-09-17T23:30:00\n",
       "Dimensions without coordinates: axis_nbounds, x, y\n",
       "Data variables:\n",
       "    nav_lat               (y, x) float32 dask.array<shape=(4729, 8354), chunksize=(240, 480)>\n",
       "    nav_lon               (y, x) float32 dask.array<shape=(4729, 8354), chunksize=(240, 480)>\n",
       "    sossheig              (time_counter, y, x) float32 dask.array<shape=(11688, 4729, 8354), chunksize=(240, 240, 480)>\n",
       "    time_centered_bounds  (time_counter, axis_nbounds) datetime64[ns] dask.array<shape=(11688, 2), chunksize=(240, 2)>\n",
       "    time_counter_bounds   (time_counter, axis_nbounds) datetime64[ns] dask.array<shape=(11688, 2), chunksize=(240, 2)>\n",
       "Attributes:\n",
       "    Conventions:  CF-1.6\n",
       "    TimeStamp:    24/03/2019 14:43:29 +0100\n",
       "    description:  ocean T grid variables\n",
       "    file_name:    eNATL60-BLBT02X_1h_20100101_20100125_gridT-2D_20100119-2010...\n",
       "    ibegin:       0\n",
       "    jbegin:       0\n",
       "    name:         /scratch/tmp/5251284/eNATL60-BLBT02X_1h_20100101_20100125_g...\n",
       "    ni:           8354\n",
       "    nj:           10\n",
       "    timeStamp:    2019-Mar-24 06:31:35 GMT\n",
       "    title:        ocean T grid variables\n",
       "    uuid:         80877374-74d2-468e-9fc6-d8cae8009094"
      ]
     },
     "execution_count": 38,
     "metadata": {},
     "output_type": "execute_result"
    }
   ],
   "source": [
    "%time ds=xr.open_zarr('/store/albert7a/eNATL60/zarr/eNATL60-BLBT02-SSH-1h')\n",
    "ds"
   ]
  },
  {
   "cell_type": "code",
   "execution_count": 39,
   "metadata": {},
   "outputs": [],
   "source": [
    "ds_sorted=ds.sortby('time_counter')"
   ]
  },
  {
   "cell_type": "code",
   "execution_count": 40,
   "metadata": {},
   "outputs": [
    {
     "name": "stdout",
     "output_type": "stream",
     "text": [
      "1847.304207184\n"
     ]
    }
   ],
   "source": [
    "print(ds.nbytes/1e9)"
   ]
  },
  {
   "cell_type": "code",
   "execution_count": 41,
   "metadata": {},
   "outputs": [],
   "source": [
    "ssh_FMA=ds_sorted.sel(time_counter=slice('2010-02-01','2010-04-30'))['sossheig']"
   ]
  },
  {
   "cell_type": "code",
   "execution_count": 72,
   "metadata": {},
   "outputs": [],
   "source": [
    "ssh_ASO=ds_sorted.sel(time_counter=slice('2009-08-01','2009-10-31'))['sossheig']"
   ]
  },
  {
   "cell_type": "code",
   "execution_count": 42,
   "metadata": {},
   "outputs": [
    {
     "data": {
      "text/plain": [
       "<xarray.DataArray 'sossheig' (time_counter: 2136, y: 4729, x: 8354)>\n",
       "dask.array<shape=(2136, 4729, 8354), dtype=float32, chunksize=(24, 240, 480)>\n",
       "Coordinates:\n",
       "    time_centered  (time_counter) datetime64[ns] dask.array<shape=(2136,), chunksize=(24,)>\n",
       "  * time_counter   (time_counter) datetime64[ns] 2010-02-01T00:30:00 ... 2010-04-30T23:30:00\n",
       "Dimensions without coordinates: y, x\n",
       "Attributes:\n",
       "    interval_write:    1 h\n",
       "    long_name:         sea surface height\n",
       "    online_operation:  average\n",
       "    standard_name:     sea_surface_height_above_geoid\n",
       "    units:             m"
      ]
     },
     "execution_count": 42,
     "metadata": {},
     "output_type": "execute_result"
    }
   ],
   "source": [
    "ssh_FMA"
   ]
  },
  {
   "cell_type": "code",
   "execution_count": 43,
   "metadata": {},
   "outputs": [],
   "source": [
    "time=ssh_FMA['time_counter']"
   ]
  },
  {
   "cell_type": "code",
   "execution_count": 65,
   "metadata": {},
   "outputs": [
    {
     "name": "stdout",
     "output_type": "stream",
     "text": [
      "['2010-02-01T00:30:00.000000000' '2010-02-01T12:30:00.000000000'\n",
      " '2010-02-02T00:30:00.000000000' '2010-02-02T12:30:00.000000000'\n",
      " '2010-02-03T00:30:00.000000000' '2010-02-03T12:30:00.000000000'\n",
      " '2010-02-04T00:30:00.000000000' '2010-02-04T12:30:00.000000000'\n",
      " '2010-02-05T00:30:00.000000000' '2010-02-05T12:30:00.000000000'\n",
      " '2010-02-06T00:30:00.000000000' '2010-02-06T12:30:00.000000000'\n",
      " '2010-02-07T00:30:00.000000000' '2010-02-07T12:30:00.000000000'\n",
      " '2010-02-08T00:30:00.000000000' '2010-02-08T12:30:00.000000000'\n",
      " '2010-02-09T00:30:00.000000000' '2010-02-09T12:30:00.000000000'\n",
      " '2010-02-10T00:30:00.000000000' '2010-02-10T12:30:00.000000000'\n",
      " '2010-02-11T00:30:00.000000000' '2010-02-11T12:30:00.000000000'\n",
      " '2010-02-12T00:30:00.000000000' '2010-02-12T12:30:00.000000000'\n",
      " '2010-02-13T00:30:00.000000000' '2010-02-13T12:30:00.000000000'\n",
      " '2010-02-14T00:30:00.000000000' '2010-02-14T12:30:00.000000000'\n",
      " '2010-02-15T00:30:00.000000000' '2010-02-15T12:30:00.000000000'\n",
      " '2010-02-16T00:30:00.000000000' '2010-02-16T12:30:00.000000000'\n",
      " '2010-02-17T00:30:00.000000000' '2010-02-17T12:30:00.000000000'\n",
      " '2010-02-18T00:30:00.000000000' '2010-02-18T12:30:00.000000000'\n",
      " '2010-02-19T00:30:00.000000000' '2010-02-19T12:30:00.000000000'\n",
      " '2010-02-20T00:30:00.000000000' '2010-02-20T12:30:00.000000000'\n",
      " '2010-02-21T00:30:00.000000000' '2010-02-21T12:30:00.000000000'\n",
      " '2010-02-22T00:30:00.000000000' '2010-02-22T12:30:00.000000000'\n",
      " '2010-02-23T00:30:00.000000000' '2010-02-23T12:30:00.000000000'\n",
      " '2010-02-24T00:30:00.000000000' '2010-02-24T12:30:00.000000000'\n",
      " '2010-02-25T00:30:00.000000000' '2010-02-25T12:30:00.000000000'\n",
      " '2010-02-26T00:30:00.000000000' '2010-02-26T12:30:00.000000000'\n",
      " '2010-02-27T00:30:00.000000000' '2010-02-27T12:30:00.000000000'\n",
      " '2010-02-28T00:30:00.000000000' '2010-02-28T12:30:00.000000000'\n",
      " '2010-03-01T00:30:00.000000000' '2010-03-01T12:30:00.000000000'\n",
      " '2010-03-02T00:30:00.000000000' '2010-03-02T12:30:00.000000000'\n",
      " '2010-03-03T00:30:00.000000000' '2010-03-03T12:30:00.000000000'\n",
      " '2010-03-04T00:30:00.000000000' '2010-03-04T12:30:00.000000000'\n",
      " '2010-03-05T00:30:00.000000000' '2010-03-05T12:30:00.000000000'\n",
      " '2010-03-06T00:30:00.000000000' '2010-03-06T12:30:00.000000000'\n",
      " '2010-03-07T00:30:00.000000000' '2010-03-07T12:30:00.000000000'\n",
      " '2010-03-08T00:30:00.000000000' '2010-03-08T12:30:00.000000000'\n",
      " '2010-03-09T00:30:00.000000000' '2010-03-09T12:30:00.000000000'\n",
      " '2010-03-10T00:30:00.000000000' '2010-03-10T12:30:00.000000000'\n",
      " '2010-03-11T00:30:00.000000000' '2010-03-11T12:30:00.000000000'\n",
      " '2010-03-12T00:30:00.000000000' '2010-03-12T12:30:00.000000000'\n",
      " '2010-03-13T00:30:00.000000000' '2010-03-13T12:30:00.000000000'\n",
      " '2010-03-14T00:30:00.000000000' '2010-03-14T12:30:00.000000000'\n",
      " '2010-03-15T00:30:00.000000000' '2010-03-15T12:30:00.000000000'\n",
      " '2010-03-16T00:30:00.000000000' '2010-03-16T12:30:00.000000000'\n",
      " '2010-03-17T00:30:00.000000000' '2010-03-17T12:30:00.000000000'\n",
      " '2010-03-18T00:30:00.000000000' '2010-03-18T12:30:00.000000000'\n",
      " '2010-03-19T00:30:00.000000000' '2010-03-19T12:30:00.000000000'\n",
      " '2010-03-20T00:30:00.000000000' '2010-03-20T12:30:00.000000000'\n",
      " '2010-03-21T00:30:00.000000000' '2010-03-21T12:30:00.000000000'\n",
      " '2010-03-22T00:30:00.000000000' '2010-03-22T12:30:00.000000000'\n",
      " '2010-03-23T00:30:00.000000000' '2010-03-23T12:30:00.000000000'\n",
      " '2010-03-24T00:30:00.000000000' '2010-03-24T12:30:00.000000000'\n",
      " '2010-03-25T00:30:00.000000000' '2010-03-25T12:30:00.000000000'\n",
      " '2010-03-26T00:30:00.000000000' '2010-03-26T12:30:00.000000000'\n",
      " '2010-03-27T00:30:00.000000000' '2010-03-27T12:30:00.000000000'\n",
      " '2010-03-28T00:30:00.000000000' '2010-03-28T12:30:00.000000000'\n",
      " '2010-03-29T00:30:00.000000000' '2010-03-29T12:30:00.000000000'\n",
      " '2010-03-30T00:30:00.000000000' '2010-03-30T12:30:00.000000000'\n",
      " '2010-03-31T00:30:00.000000000' '2010-03-31T12:30:00.000000000'\n",
      " '2010-04-01T00:30:00.000000000' '2010-04-01T12:30:00.000000000'\n",
      " '2010-04-02T00:30:00.000000000' '2010-04-02T12:30:00.000000000'\n",
      " '2010-04-03T00:30:00.000000000' '2010-04-03T12:30:00.000000000'\n",
      " '2010-04-04T00:30:00.000000000' '2010-04-04T12:30:00.000000000'\n",
      " '2010-04-05T00:30:00.000000000' '2010-04-05T12:30:00.000000000'\n",
      " '2010-04-06T00:30:00.000000000' '2010-04-06T12:30:00.000000000'\n",
      " '2010-04-07T00:30:00.000000000' '2010-04-07T12:30:00.000000000'\n",
      " '2010-04-08T00:30:00.000000000' '2010-04-08T12:30:00.000000000'\n",
      " '2010-04-09T00:30:00.000000000' '2010-04-09T12:30:00.000000000'\n",
      " '2010-04-10T00:30:00.000000000' '2010-04-10T12:30:00.000000000'\n",
      " '2010-04-11T00:30:00.000000000' '2010-04-11T12:30:00.000000000'\n",
      " '2010-04-12T00:30:00.000000000' '2010-04-12T12:30:00.000000000'\n",
      " '2010-04-13T00:30:00.000000000' '2010-04-13T12:30:00.000000000'\n",
      " '2010-04-14T00:30:00.000000000' '2010-04-14T12:30:00.000000000'\n",
      " '2010-04-15T00:30:00.000000000' '2010-04-15T12:30:00.000000000'\n",
      " '2010-04-16T00:30:00.000000000' '2010-04-16T12:30:00.000000000'\n",
      " '2010-04-17T00:30:00.000000000' '2010-04-17T12:30:00.000000000'\n",
      " '2010-04-18T00:30:00.000000000' '2010-04-18T12:30:00.000000000'\n",
      " '2010-04-19T00:30:00.000000000' '2010-04-19T12:30:00.000000000'\n",
      " '2010-04-20T00:30:00.000000000' '2010-04-20T12:30:00.000000000'\n",
      " '2010-04-21T00:30:00.000000000' '2010-04-21T12:30:00.000000000'\n",
      " '2010-04-22T00:30:00.000000000' '2010-04-22T12:30:00.000000000'\n",
      " '2010-04-23T00:30:00.000000000' '2010-04-23T12:30:00.000000000'\n",
      " '2010-04-24T00:30:00.000000000' '2010-04-24T12:30:00.000000000'\n",
      " '2010-04-25T00:30:00.000000000' '2010-04-25T12:30:00.000000000'\n",
      " '2010-04-26T00:30:00.000000000' '2010-04-26T12:30:00.000000000'\n",
      " '2010-04-27T00:30:00.000000000' '2010-04-27T12:30:00.000000000'\n",
      " '2010-04-28T00:30:00.000000000' '2010-04-28T12:30:00.000000000'\n",
      " '2010-04-29T00:30:00.000000000' '2010-04-29T12:30:00.000000000'\n",
      " '2010-04-30T00:30:00.000000000' '2010-04-30T12:30:00.000000000']\n"
     ]
    }
   ],
   "source": [
    "with np.printoptions(threshold=np.inf):\n",
    "    print(time[::12].values)"
   ]
  },
  {
   "cell_type": "code",
   "execution_count": 66,
   "metadata": {},
   "outputs": [],
   "source": [
    "ssh_FMA_reg=ssh_FMA[:,1950:2050,3850:4150]"
   ]
  },
  {
   "cell_type": "code",
   "execution_count": 73,
   "metadata": {},
   "outputs": [],
   "source": [
    "ssh_ASO_reg=ssh_ASO[:,1950:2050,3850:4150]"
   ]
  },
  {
   "cell_type": "code",
   "execution_count": 67,
   "metadata": {},
   "outputs": [
    {
     "name": "stdout",
     "output_type": "stream",
     "text": [
      "CPU times: user 3.47 s, sys: 1.37 s, total: 4.84 s\n",
      "Wall time: 6.42 s\n"
     ]
    }
   ],
   "source": [
    "NPADDING = 2\n",
    "%time SPtime_FMA_reg = xfft.fft(ssh_FMA_reg, dim='time_counter', dx=1., detrend='mean',nfft=ssh_FMA_reg.shape[0]*NPADDING,tapering=True)\n"
   ]
  },
  {
   "cell_type": "code",
   "execution_count": 74,
   "metadata": {},
   "outputs": [],
   "source": [
    "SPtime_ASO_reg = xfft.fft(ssh_ASO_reg, dim='time_counter', dx=1., detrend='mean',nfft=ssh_ASO_reg.shape[0]*NPADDING,tapering=True)\n"
   ]
  },
  {
   "cell_type": "code",
   "execution_count": 68,
   "metadata": {},
   "outputs": [
    {
     "data": {
      "text/plain": [
       "<xarray.DataArray 'spectrum' (f_time_counter: 2137, y: 100, x: 300)>\n",
       "dask.array<shape=(2137, 100, 300), dtype=complex128, chunksize=(2136, 100, 300)>\n",
       "Coordinates:\n",
       "  * y               (y) int64 0 1 2 3 4 5 6 7 8 9 ... 91 92 93 94 95 96 97 98 99\n",
       "  * x               (x) int64 0 1 2 3 4 5 6 7 ... 293 294 295 296 297 298 299\n",
       "  * f_time_counter  (f_time_counter) float64 0.0 0.0002341 ... 0.4998 0.5\n",
       "Attributes:\n",
       "    ps_factor:   1.0958913717403807e-07\n",
       "    psd_factor:  0.00046816479400749064"
      ]
     },
     "execution_count": 68,
     "metadata": {},
     "output_type": "execute_result"
    }
   ],
   "source": [
    "SPtime_FMA_reg"
   ]
  },
  {
   "cell_type": "code",
   "execution_count": 69,
   "metadata": {},
   "outputs": [
    {
     "name": "stdout",
     "output_type": "stream",
     "text": [
      "CPU times: user 2.33 s, sys: 1.19 s, total: 3.51 s\n",
      "Wall time: 17.9 s\n"
     ]
    }
   ],
   "source": [
    "%time MEANPSD_FMA=xfft.psd(SPtime_FMA_reg).mean(dim='x').mean(dim='y').load()\n"
   ]
  },
  {
   "cell_type": "code",
   "execution_count": 75,
   "metadata": {},
   "outputs": [],
   "source": [
    "MEANPSD_ASO=xfft.psd(SPtime_ASO_reg).mean(dim='x').mean(dim='y').load()\n"
   ]
  },
  {
   "cell_type": "code",
   "execution_count": 70,
   "metadata": {},
   "outputs": [],
   "source": [
    "freqs_FMA=MEANPSD_FMA.f_time_counter.values\n",
    "freqs_FMA = freqs_FMA[NPADDING::] \n"
   ]
  },
  {
   "cell_type": "code",
   "execution_count": 76,
   "metadata": {},
   "outputs": [],
   "source": [
    "freqs_ASO=MEANPSD_ASO.f_time_counter.values\n",
    "freqs_ASO = freqs_ASO[NPADDING::] \n"
   ]
  },
  {
   "cell_type": "code",
   "execution_count": 77,
   "metadata": {},
   "outputs": [
    {
     "data": {
      "text/plain": [
       "Text(0.5, 1.0, 'Temporal Spectrum of SSH in the box')"
      ]
     },
     "execution_count": 77,
     "metadata": {},
     "output_type": "execute_result"
    },
    {
     "data": {
      "image/png": "[encoded data removed]",
      "text/plain": [
       "<Figure size 1080x576 with 1 Axes>"
      ]
     },
     "metadata": {},
     "output_type": "display_data"
    }
   ],
   "source": [
    "fig = plt.figure(facecolor='white')\n",
    "ax = fig.add_subplot(111)\n",
    "\n",
    "ax.loglog(freqs_FMA,MEANPSD_FMA[NPADDING::],'k',label='winter')\n",
    "ax.loglog(freqs_ASO,MEANPSD_ASO[NPADDING::],'r',label='summer')\n",
    "ax.set_xlim(1e-3,1)\n",
    "ax.grid(which='both',axis='both')\n",
    "plt.xlabel('Frequency (cpd)')\n",
    "plt.ylabel('PSD (m2/cpd)')\n",
    "plt.legend()\n",
    "plt.title('Temporal Spectrum of SSH in the box')"
   ]
  },
  {
   "cell_type": "code",
   "execution_count": null,
   "metadata": {},
   "outputs": [],
   "source": []
  }
 ],
 "metadata": {
  "kernelspec": {
   "display_name": "Python 3",
   "language": "python",
   "name": "python3"
  },
  "language_info": {
   "codemirror_mode": {
    "name": "ipython",
    "version": 3
   },
   "file_extension": ".py",
   "mimetype": "text/x-python",
   "name": "python",
   "nbconvert_exporter": "python",
   "pygments_lexer": "ipython3",
   "version": "3.7.3"
  }
 },
 "nbformat": 4,
 "nbformat_minor": 2
}
