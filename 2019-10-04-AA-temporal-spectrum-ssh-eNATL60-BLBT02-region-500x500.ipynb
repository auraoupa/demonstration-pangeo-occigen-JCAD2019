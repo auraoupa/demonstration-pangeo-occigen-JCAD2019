{
 "cells": [
  {
   "cell_type": "markdown",
   "metadata": {},
   "source": [
    "## Computational ressources"
   ]
  },
  {
   "cell_type": "code",
   "execution_count": 1,
   "metadata": {},
   "outputs": [
    {
     "name": "stderr",
     "output_type": "stream",
     "text": [
      "/scratch/cnt0024/hmg2840/albert7a/anaconda3/lib/python3.7/site-packages/distributed/dashboard/core.py:74: UserWarning: \n",
      "Failed to start diagnostics server on port 8787. [Errno 13] Permission denied\n",
      "  warnings.warn(\"\\n\" + msg)\n"
     ]
    },
    {
     "data": {
      "text/html": [
       "<table style=\"border: 2px solid white;\">\n",
       "<tr>\n",
       "<td style=\"vertical-align: top; border: 0px solid white\">\n",
       "<h3>Client</h3>\n",
       "<ul>\n",
       "  <li><b>Scheduler: </b>tcp://172.30.100.4:44602\n",
       "  <li><b>Dashboard: </b><a href='http://172.30.100.4:36281/status' target='_blank'>http://172.30.100.4:36281/status</a>\n",
       "</ul>\n",
       "</td>\n",
       "<td style=\"vertical-align: top; border: 0px solid white\">\n",
       "<h3>Cluster</h3>\n",
       "<ul>\n",
       "  <li><b>Workers: </b>0</li>\n",
       "  <li><b>Cores: </b>0</li>\n",
       "  <li><b>Memory: </b>0 B</li>\n",
       "</ul>\n",
       "</td>\n",
       "</tr>\n",
       "</table>"
      ],
      "text/plain": [
       "<Client: scheduler='tcp://172.30.100.4:44602' processes=0 cores=0>"
      ]
     },
     "execution_count": 1,
     "metadata": {},
     "output_type": "execute_result"
    }
   ],
   "source": [
    "from dask_jobqueue import SLURMCluster \n",
    "from dask.distributed import Client \n",
    "  \n",
    "cluster = SLURMCluster(cores=28,name='make_profiles',walltime='00:30:00',job_extra=['--constraint=HSW24','--exclusive','--nodes=1'],memory='120GB',interface='ib0') \n",
    "\n",
    "cluster.scale(204) \n",
    "\n",
    "from dask.distributed import Client\n",
    "client = Client(cluster)\n",
    "\n",
    "client"
   ]
  },
  {
   "cell_type": "code",
   "execution_count": 2,
   "metadata": {},
   "outputs": [
    {
     "name": "stdout",
     "output_type": "stream",
     "text": [
      "             JOBID PARTITION     NAME     USER ST       TIME  NODES NODELIST(REASON)\r\n",
      "           7478500      allc make_pro albert7a PD       0:00      1 (None)\r\n",
      "           7478501      allc make_pro albert7a PD       0:00      1 (None)\r\n",
      "           7478502      allc make_pro albert7a PD       0:00      1 (None)\r\n",
      "           7478503      allc make_pro albert7a PD       0:00      1 (None)\r\n",
      "           7478504      allc make_pro albert7a PD       0:00      1 (None)\r\n",
      "           7478505      allc make_pro albert7a PD       0:00      1 (None)\r\n",
      "           7478506      allc make_pro albert7a PD       0:00      1 (None)\r\n",
      "           7478507      allc make_pro albert7a PD       0:00      1 (None)\r\n"
     ]
    }
   ],
   "source": [
    "!squeue -u albert7a"
   ]
  },
  {
   "cell_type": "markdown",
   "metadata": {},
   "source": [
    "## Librairies and customization"
   ]
  },
  {
   "cell_type": "code",
   "execution_count": 3,
   "metadata": {},
   "outputs": [],
   "source": [
    "import xarray as xr \n",
    "import dask \n",
    "import numpy as np \n",
    "import os \n",
    "import time \n",
    "import glob\n",
    "from datetime import date\n",
    "today=date.today()\n",
    "\n",
    "import sys\n",
    "sys.path.insert(0,'/home/albert7a/git/xscale')\n",
    "import xscale\n",
    "\n",
    "import xscale.spectral.fft as xfft\n",
    "from xscale.spectral.tools import plot_spectrum\n",
    "import xscale.signal.generator as xgen\n",
    "\n",
    "import matplotlib.pyplot as plt\n",
    "params = {'figure.figsize' : (15, 8),'legend.fontsize': 16,'xtick.labelsize':16,'ytick.labelsize':16,'axes.labelsize':16,'font.size':16}\n",
    "plt.rcParams.update(params)\n"
   ]
  },
  {
   "cell_type": "markdown",
   "metadata": {},
   "source": [
    "## Localisation of the region"
   ]
  },
  {
   "cell_type": "code",
   "execution_count": 4,
   "metadata": {},
   "outputs": [],
   "source": [
    "data_dir = '/store/CT1/hmg2840/lbrodeau/eNATL60/eNATL60-BLBT02-S/'\n",
    "tfilename = sorted(glob.glob(data_dir+'*/eNATL60-BLBT02_1h_*_gridT-2D_20090701-20090701.nc'))\n",
    "filename =tfilename[0]\n"
   ]
  },
  {
   "cell_type": "code",
   "execution_count": 5,
   "metadata": {},
   "outputs": [
    {
     "name": "stdout",
     "output_type": "stream",
     "text": [
      "CPU times: user 129 ms, sys: 84.9 ms, total: 214 ms\n",
      "Wall time: 1.71 s\n"
     ]
    }
   ],
   "source": [
    "%time ds=xr.open_dataset(filename)['sossheig']\n"
   ]
  },
  {
   "cell_type": "code",
   "execution_count": 6,
   "metadata": {},
   "outputs": [
    {
     "data": {
      "text/plain": [
       "<xarray.DataArray 'sossheig' (time_counter: 24, y: 4729, x: 8354)>\n",
       "[948145584 values with dtype=float32]\n",
       "Coordinates:\n",
       "    nav_lat        (y, x) float32 ...\n",
       "    nav_lon        (y, x) float32 ...\n",
       "    time_centered  (time_counter) datetime64[ns] ...\n",
       "  * time_counter   (time_counter) datetime64[ns] 2009-07-01T00:30:00 ... 2009-07-01T23:30:00\n",
       "Dimensions without coordinates: y, x\n",
       "Attributes:\n",
       "    standard_name:       sea_surface_height_above_geoid\n",
       "    long_name:           sea surface height\n",
       "    units:               m\n",
       "    online_operation:    average\n",
       "    interval_operation:  40 s\n",
       "    interval_write:      1 h\n",
       "    cell_methods:        time: mean (interval: 40 s)"
      ]
     },
     "execution_count": 6,
     "metadata": {},
     "output_type": "execute_result"
    }
   ],
   "source": [
    "ds"
   ]
  },
  {
   "cell_type": "code",
   "execution_count": 7,
   "metadata": {},
   "outputs": [
    {
     "name": "stdout",
     "output_type": "stream",
     "text": [
      "3.792582336\n"
     ]
    }
   ],
   "source": [
    "print(ds.nbytes/1e9)"
   ]
  },
  {
   "cell_type": "code",
   "execution_count": 8,
   "metadata": {},
   "outputs": [
    {
     "data": {
      "text/plain": [
       "<matplotlib.collections.PathCollection at 0x2b8ace90fd68>"
      ]
     },
     "execution_count": 8,
     "metadata": {},
     "output_type": "execute_result"
    },
    {
     "data": {
      "image/png": "[encoded data removed]",
      "text/plain": [
       "<Figure size 432x288 with 2 Axes>"
      ]
     },
     "metadata": {
      "needs_background": "light"
     },
     "output_type": "display_data"
    }
   ],
   "source": [
    "ds[12].plot()\n",
    "plt.plot([3750, 4250], [1750, 1750])\n",
    "plt.plot([3750, 4250], [2250, 2250])\n",
    "plt.plot([3750, 3750], [1750, 2250])\n",
    "plt.plot([4250, 4250], [1750, 2250])\n",
    "plt.scatter(4000,2000,marker='x')"
   ]
  },
  {
   "cell_type": "markdown",
   "metadata": {},
   "source": [
    "## Importing the data : SSH in run eNATL60-BLBT02 for FMA months at location X"
   ]
  },
  {
   "cell_type": "code",
   "execution_count": 9,
   "metadata": {},
   "outputs": [],
   "source": [
    "tfilenames_FMA = []\n",
    "\n",
    "for month in ['02','03','04']:\n",
    "    if month in ['12','01','02','03','04','05','06']:\n",
    "        case='BLBT02X'\n",
    "    else:\n",
    "        case='BLBT02'\n",
    "\n",
    "    if month in ['07','08','09','10','11','12']:\n",
    "        year='2009'\n",
    "    else:\n",
    "        year='2010'\n",
    "    \n",
    "    data_dir = '/store/CT1/hmg2840/lbrodeau/eNATL60/eNATL60-'+str(case)+'-S/'\n",
    "    tfilenames_month = sorted(glob.glob(data_dir+'*/eNATL60-'+str(case)+'_1h_*_gridT-2D_'+str(year)+str(month)+'??-'+str(year)+str(month)+'??.nc'))\n",
    "    tfilenames_FMA=tfilenames_FMA+tfilenames_month"
   ]
  },
  {
   "cell_type": "code",
   "execution_count": null,
   "metadata": {},
   "outputs": [],
   "source": [
    "%time dsFMA=xr.open_mfdataset(tfilenames_FMA,chunks={'x':1000,'y':1000,'time_counter':1})['sossheig']\n"
   ]
  },
  {
   "cell_type": "code",
   "execution_count": null,
   "metadata": {},
   "outputs": [],
   "source": [
    "dsFMA"
   ]
  },
  {
   "cell_type": "code",
   "execution_count": null,
   "metadata": {},
   "outputs": [],
   "source": [
    "print(dsFMA.nbytes/1e9)"
   ]
  },
  {
   "cell_type": "code",
   "execution_count": null,
   "metadata": {},
   "outputs": [],
   "source": [
    "dsFMA_reg=dsFMA[:,1750:2250,3750:4250].chunk({'x':1,'y':1,'time_counter':2136})"
   ]
  },
  {
   "cell_type": "code",
   "execution_count": null,
   "metadata": {},
   "outputs": [],
   "source": [
    "print(dsFMA_reg.nbytes/1e9)"
   ]
  },
  {
   "cell_type": "code",
   "execution_count": null,
   "metadata": {},
   "outputs": [],
   "source": [
    "%time dsFMA_reg.mean(dim={'x','y'}).plot()"
   ]
  },
  {
   "cell_type": "code",
   "execution_count": null,
   "metadata": {},
   "outputs": [],
   "source": [
    "tfilenames_ASO = []\n",
    "\n",
    "for month in ['08','09','10']:\n",
    "    if month in ['12','01','02','03','04','05','06']:\n",
    "        case='BLBT02X'\n",
    "    else:\n",
    "        case='BLBT02'\n",
    "\n",
    "    if month in ['07','08','09','10','11','12']:\n",
    "        year='2009'\n",
    "    else:\n",
    "        year='2010'\n",
    "    \n",
    "    data_dir = '/store/CT1/hmg2840/lbrodeau/eNATL60/eNATL60-'+str(case)+'-S/'\n",
    "    tfilenames_month = sorted(glob.glob(data_dir+'*/eNATL60-'+str(case)+'_1h_*_gridT-2D_'+str(year)+str(month)+'??-'+str(year)+str(month)+'??.nc'))\n",
    "    tfilenames_ASO=tfilenames_ASO+tfilenames_month"
   ]
  },
  {
   "cell_type": "code",
   "execution_count": null,
   "metadata": {},
   "outputs": [],
   "source": [
    "%time dsASO=xr.open_mfdataset(tfilenames_ASO,chunks={'x':1000,'y':1000,'time_counter':1})['sossheig']\n",
    "    "
   ]
  },
  {
   "cell_type": "code",
   "execution_count": null,
   "metadata": {},
   "outputs": [],
   "source": [
    "dsASO_reg=dsASO[:,1750:2250,3750:4250].chunk({'x':1,'y':1,'time_counter':2136})"
   ]
  },
  {
   "cell_type": "markdown",
   "metadata": {},
   "source": [
    "## FFT decomposition and power spectral density computation"
   ]
  },
  {
   "cell_type": "code",
   "execution_count": null,
   "metadata": {},
   "outputs": [],
   "source": [
    "NPADDING = 2\n",
    "%time SPtime_FMA_reg = xfft.fft(dsFMA_reg, dim='time_counter', dx=1., detrend='mean',nfft=dsFMA_reg.shape[0]*NPADDING,tapering=True)\n"
   ]
  },
  {
   "cell_type": "code",
   "execution_count": null,
   "metadata": {},
   "outputs": [],
   "source": [
    "NPADDING = 2\n",
    "SPtime_FMA_reg = xfft.fft(dsFMA_reg, dim='time_counter', dx=1., detrend='mean',nfft=dsFMA_reg.shape[0]*NPADDING,tapering=True)\n",
    "MEANPSD_FMA=xfft.psd(SPtime_FMA_reg).mean(dim='x').mean(dim='y').load()\n",
    "freqs_FMA=MEANPSD_FMA.f_time_counter.values\n",
    "freqs_FMA = freqs_FMA[NPADDING::] \n",
    "\n",
    "SPtime_ASO_reg = xfft.fft(dsASO_reg, dim='time_counter', dx=1., detrend='mean',nfft=dsASO.shape[0]*NPADDING,tapering=True)\n",
    "MEANPSD_ASO=xfft.psd(SPtime_ASO_reg).mean(dim='x').mean(dim='y').load()\n",
    "freqs_ASO=MEANPSD_ASO.f_time_counter.values\n",
    "freqs_ASO = freqs_ASO[NPADDING::] \n"
   ]
  },
  {
   "cell_type": "code",
   "execution_count": null,
   "metadata": {},
   "outputs": [],
   "source": [
    "fig = plt.figure(facecolor='white')\n",
    "ax = fig.add_subplot(111)\n",
    "\n",
    "ax.loglog(freqs_FMA,MEANPSD_FMA[NPADDING::],'k',label='winter')\n",
    "ax.loglog(freqs_ASO,MEANPSD_ASO[NPADDING::],'r',label='summer')\n",
    "ax.set_xlim(1e-3,1)\n",
    "ax.grid(which='both',axis='both')\n",
    "plt.xlabel('Frequency (cpd)')\n",
    "plt.ylabel('PSD (m2/cpd)')\n",
    "plt.legend()\n",
    "plt.title('Temporal Spectrum of SSH in the box')"
   ]
  },
  {
   "cell_type": "code",
   "execution_count": null,
   "metadata": {},
   "outputs": [],
   "source": []
  }
 ],
 "metadata": {
  "kernelspec": {
   "display_name": "Python 3",
   "language": "python",
   "name": "python3"
  },
  "language_info": {
   "codemirror_mode": {
    "name": "ipython",
    "version": 3
   },
   "file_extension": ".py",
   "mimetype": "text/x-python",
   "name": "python",
   "nbconvert_exporter": "python",
   "pygments_lexer": "ipython3",
   "version": "3.7.3"
  }
 },
 "nbformat": 4,
 "nbformat_minor": 2
}
