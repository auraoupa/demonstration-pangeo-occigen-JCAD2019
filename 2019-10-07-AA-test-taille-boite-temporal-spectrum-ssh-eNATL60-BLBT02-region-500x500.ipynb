{
 "cells": [
  {
   "cell_type": "markdown",
   "metadata": {},
   "source": [
    "## Computational ressources"
   ]
  },
  {
   "cell_type": "code",
   "execution_count": 14,
   "metadata": {},
   "outputs": [
    {
     "name": "stderr",
     "output_type": "stream",
     "text": [
      "/scratch/cnt0024/hmg2840/albert7a/anaconda3/lib/python3.7/site-packages/distributed/bokeh/core.py:74: UserWarning: \n",
      "Failed to start diagnostics server on port 8787. [Errno 13] Permission denied\n",
      "  warnings.warn(\"\\n\" + msg)\n"
     ]
    },
    {
     "data": {
      "text/html": [
       "<table style=\"border: 2px solid white;\">\n",
       "<tr>\n",
       "<td style=\"vertical-align: top; border: 0px solid white\">\n",
       "<h3>Client</h3>\n",
       "<ul>\n",
       "  <li><b>Scheduler: </b>tcp://172.30.100.4:43597\n",
       "  <li><b>Dashboard: </b><a href='http://172.30.100.4:43005/status' target='_blank'>http://172.30.100.4:43005/status</a>\n",
       "</ul>\n",
       "</td>\n",
       "<td style=\"vertical-align: top; border: 0px solid white\">\n",
       "<h3>Cluster</h3>\n",
       "<ul>\n",
       "  <li><b>Workers: </b>0</li>\n",
       "  <li><b>Cores: </b>0</li>\n",
       "  <li><b>Memory: </b>0 B</li>\n",
       "</ul>\n",
       "</td>\n",
       "</tr>\n",
       "</table>"
      ],
      "text/plain": [
       "<Client: scheduler='tcp://172.30.100.4:43597' processes=0 cores=0>"
      ]
     },
     "execution_count": 14,
     "metadata": {},
     "output_type": "execute_result"
    }
   ],
   "source": [
    "from dask_jobqueue import SLURMCluster \n",
    "from dask.distributed import Client \n",
    "  \n",
    "cluster = SLURMCluster(cores=28,name='make_profiles',walltime='00:30:00',job_extra=['--constraint=HSW24','--exclusive','--nodes=1'],memory='120GB',interface='ib0') \n",
    "\n",
    "cluster.scale(204) \n",
    "\n",
    "from dask.distributed import Client\n",
    "client = Client(cluster)\n",
    "\n",
    "client"
   ]
  },
  {
   "cell_type": "code",
   "execution_count": 15,
   "metadata": {},
   "outputs": [
    {
     "name": "stdout",
     "output_type": "stream",
     "text": [
      "             JOBID PARTITION     NAME     USER ST       TIME  NODES NODELIST(REASON)\r\n",
      "           7483471      allc make_pro albert7a PD       0:00      1 (Priority)\r\n",
      "           7483472      allc make_pro albert7a PD       0:00      1 (Priority)\r\n",
      "           7483473      allc make_pro albert7a PD       0:00      1 (Priority)\r\n",
      "           7483474      allc make_pro albert7a PD       0:00      1 (Priority)\r\n",
      "           7483475      allc make_pro albert7a PD       0:00      1 (Resources)\r\n",
      "           7483476      allc make_pro albert7a PD       0:00      1 (Resources)\r\n",
      "           7483477      allc make_pro albert7a PD       0:00      1 (Resources)\r\n",
      "           7483478      allc make_pro albert7a PD       0:00      1 (Resources)\r\n"
     ]
    }
   ],
   "source": [
    "!squeue -u albert7a"
   ]
  },
  {
   "cell_type": "code",
   "execution_count": 16,
   "metadata": {},
   "outputs": [
    {
     "name": "stdout",
     "output_type": "stream",
     "text": [
      "70 are ready !\n"
     ]
    }
   ],
   "source": [
    "import time\n",
    "nb_workers = 0\n",
    "while True:\n",
    "    nb_workers = len(client.scheduler_info()[\"workers\"])\n",
    "    if nb_workers >= 2:\n",
    "        break\n",
    "    time.sleep(1)\n",
    "print(str(nb_workers)+' are ready !')"
   ]
  },
  {
   "cell_type": "code",
   "execution_count": 17,
   "metadata": {},
   "outputs": [
    {
     "name": "stdout",
     "output_type": "stream",
     "text": [
      "             JOBID PARTITION     NAME     USER ST       TIME  NODES NODELIST(REASON)\r\n",
      "           7483474      allc make_pro albert7a PD       0:00      1 (Priority)\r\n",
      "           7483475      allc make_pro albert7a PD       0:00      1 (Priority)\r\n",
      "           7483476      allc make_pro albert7a PD       0:00      1 (Priority)\r\n",
      "           7483477      allc make_pro albert7a PD       0:00      1 (Priority)\r\n",
      "           7483478      allc make_pro albert7a PD       0:00      1 (Priority)\r\n",
      "           7483471      allc make_pro albert7a  R       0:43      1 n2057\r\n",
      "           7483472      allc make_pro albert7a  R       0:43      1 n2298\r\n",
      "           7483473      allc make_pro albert7a  R       0:43      1 n2299\r\n"
     ]
    }
   ],
   "source": [
    "!squeue -u albert7a"
   ]
  },
  {
   "cell_type": "markdown",
   "metadata": {},
   "source": [
    "## Librairies and customization"
   ]
  },
  {
   "cell_type": "code",
   "execution_count": 18,
   "metadata": {},
   "outputs": [],
   "source": [
    "import xarray as xr \n",
    "import dask \n",
    "import numpy as np \n",
    "import os \n",
    "import time \n",
    "import glob\n",
    "from datetime import date\n",
    "today=date.today()\n",
    "\n",
    "import sys\n",
    "sys.path.insert(0,'/home/albert7a/git/xscale')\n",
    "import xscale\n",
    "\n",
    "import xscale.spectral.fft as xfft\n",
    "from xscale.spectral.tools import plot_spectrum\n",
    "import xscale.signal.generator as xgen\n",
    "\n",
    "import matplotlib.pyplot as plt\n",
    "params = {'figure.figsize' : (15, 8),'legend.fontsize': 16,'xtick.labelsize':16,'ytick.labelsize':16,'axes.labelsize':16,'font.size':16}\n",
    "plt.rcParams.update(params)\n"
   ]
  },
  {
   "cell_type": "code",
   "execution_count": 19,
   "metadata": {},
   "outputs": [],
   "source": [
    "tfilenames_FMA = []\n",
    "\n",
    "for month in ['02','03','04']:\n",
    "    if month in ['12','01','02','03','04','05','06']:\n",
    "        case='BLBT02X'\n",
    "    else:\n",
    "        case='BLBT02'\n",
    "\n",
    "    if month in ['07','08','09','10','11','12']:\n",
    "        year='2009'\n",
    "    else:\n",
    "        year='2010'\n",
    "    \n",
    "    data_dir = '/store/CT1/hmg2840/lbrodeau/eNATL60/eNATL60-'+str(case)+'-S/'\n",
    "    tfilenames_month = sorted(glob.glob(data_dir+'*/eNATL60-'+str(case)+'_1h_*_gridT-2D_'+str(year)+str(month)+'??-'+str(year)+str(month)+'??.nc'))\n",
    "    tfilenames_FMA=tfilenames_FMA+tfilenames_month"
   ]
  },
  {
   "cell_type": "code",
   "execution_count": 20,
   "metadata": {},
   "outputs": [
    {
     "name": "stdout",
     "output_type": "stream",
     "text": [
      "CPU times: user 1min 6s, sys: 1min 20s, total: 2min 26s\n",
      "Wall time: 4min 49s\n"
     ]
    }
   ],
   "source": [
    "%time dsFMA=xr.open_mfdataset(tfilenames_FMA,parallel=True)['sossheig']\n"
   ]
  },
  {
   "cell_type": "code",
   "execution_count": 21,
   "metadata": {},
   "outputs": [],
   "source": [
    "dsFMA_reg=dsFMA[:,1950:2050,3950:4150].chunk({'x':1,'y':1,'time_counter':2136})"
   ]
  },
  {
   "cell_type": "code",
   "execution_count": null,
   "metadata": {},
   "outputs": [
    {
     "name": "stderr",
     "output_type": "stream",
     "text": [
      "/scratch/cnt0024/hmg2840/albert7a/anaconda3/lib/python3.7/site-packages/xarray/core/dataarray.py:218: FutureWarning: The Panel class is removed from pandas. Accessing it from the top-level namespace will also be removed in the next version\n",
      "  elif isinstance(data, pd.Panel):\n"
     ]
    }
   ],
   "source": [
    "NPADDING = 2\n",
    "%time SPtime_FMA_reg = xfft.fft(dsFMA_reg, dim='time_counter', dx=1., detrend='mean',nfft=dsFMA_reg.shape[0]*NPADDING,tapering=True)\n"
   ]
  },
  {
   "cell_type": "code",
   "execution_count": null,
   "metadata": {},
   "outputs": [],
   "source": [
    "SPtime_FMA_reg"
   ]
  },
  {
   "cell_type": "code",
   "execution_count": null,
   "metadata": {},
   "outputs": [],
   "source": [
    "%time MEANPSD_FMA=xfft.psd(SPtime_FMA_reg).mean(dim='x').mean(dim='y').load()\n"
   ]
  },
  {
   "cell_type": "code",
   "execution_count": null,
   "metadata": {},
   "outputs": [],
   "source": [
    "freqs_FMA=MEANPSD_FMA.f_time_counter.values\n",
    "freqs_FMA = freqs_FMA[NPADDING::] \n"
   ]
  },
  {
   "cell_type": "code",
   "execution_count": null,
   "metadata": {},
   "outputs": [],
   "source": [
    "fig = plt.figure(facecolor='white')\n",
    "ax = fig.add_subplot(111)\n",
    "\n",
    "ax.loglog(freqs_FMA,MEANPSD_FMA[NPADDING::],'k',label='winter')\n",
    "ax.loglog(freqs_ASO,MEANPSD_ASO[NPADDING::],'r',label='summer')\n",
    "ax.set_xlim(1e-3,1)\n",
    "ax.grid(which='both',axis='both')\n",
    "plt.xlabel('Frequency (cpd)')\n",
    "plt.ylabel('PSD (m2/cpd)')\n",
    "plt.legend()\n",
    "plt.title('Temporal Spectrum of SSH in the box')"
   ]
  },
  {
   "cell_type": "code",
   "execution_count": null,
   "metadata": {},
   "outputs": [],
   "source": []
  }
 ],
 "metadata": {
  "kernelspec": {
   "display_name": "Python 3",
   "language": "python",
   "name": "python3"
  },
  "language_info": {
   "codemirror_mode": {
    "name": "ipython",
    "version": 3
   },
   "file_extension": ".py",
   "mimetype": "text/x-python",
   "name": "python",
   "nbconvert_exporter": "python",
   "pygments_lexer": "ipython3",
   "version": "3.7.3"
  }
 },
 "nbformat": 4,
 "nbformat_minor": 2
}
